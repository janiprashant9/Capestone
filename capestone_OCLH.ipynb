{
 "cells": [
  {
   "cell_type": "code",
   "execution_count": null,
   "id": "e8ca0e34",
   "metadata": {},
   "outputs": [],
   "source": [
    "import numpy as np\n",
    "import pandas as pd\n",
    "import matplotlib.pyplot as plt\n",
    "from sklearn.model_selection import train_test_split\n",
    "from sklearn.preprocessing import MinMaxScaler\n",
    "from tensorflow.keras.models import Sequential\n",
    "from tensorflow.keras.layers import LSTM, Dense"
   ]
  },
  {
   "cell_type": "code",
   "execution_count": null,
   "id": "ac754d05",
   "metadata": {},
   "outputs": [],
   "source": [
    "df = pd.read_csv('ESH22-900-ESH22.csv')"
   ]
  },
  {
   "cell_type": "code",
   "execution_count": null,
   "id": "8eca9e7a",
   "metadata": {},
   "outputs": [],
   "source": [
    "print(df.head())"
   ]
  },
  {
   "cell_type": "code",
   "execution_count": null,
   "id": "f9817d28",
   "metadata": {},
   "outputs": [],
   "source": [
    "df.isnull().sum()"
   ]
  },
  {
   "cell_type": "code",
   "execution_count": null,
   "id": "690360e4",
   "metadata": {},
   "outputs": [],
   "source": [
    "scaler = MinMaxScaler(feature_range=(0, 1))\n",
    "scaled_data = scaler.fit_transform(df[['OPEN(H)', 'HIGH(H)', 'LOW(H)', 'CLOSE(H)']])"
   ]
  },
  {
   "cell_type": "code",
   "execution_count": null,
   "id": "70c67c2d",
   "metadata": {},
   "outputs": [],
   "source": [
    "def create_sequences(data, look_back=1):\n",
    "    X, y = [], []\n",
    "    for i in range(len(data)-look_back-1):\n",
    "        a = data[i:(i+look_back), 0]\n",
    "        X.append(a)\n",
    "        y.append(data[i + look_back, 0])\n",
    "    return np.array(X), np.array(y)\n",
    "\n",
    "look_back = 1\n",
    "X, y = create_sequences(scaled_data, look_back)\n",
    "X = np.reshape(X, (X.shape[0], 1, X.shape[1]))"
   ]
  },
  {
   "cell_type": "code",
   "execution_count": null,
   "id": "89fdd34d",
   "metadata": {},
   "outputs": [],
   "source": [
    "train_size = int(len(X) * 0.70)\n",
    "test_size = len(X) - train_size\n",
    "trainX, testX = X[0:train_size], X[train_size:len(X)]\n",
    "trainY, testY = y[0:train_size], y[train_size:len(y)]"
   ]
  },
  {
   "cell_type": "code",
   "execution_count": null,
   "id": "5ee8c4dd",
   "metadata": {},
   "outputs": [],
   "source": [
    "model = Sequential()\n",
    "model.add(LSTM(4, input_shape=(1, look_back)))\n",
    "model.add(Dense(1))\n",
    "model.compile(loss='mean_squared_error', optimizer='adam')"
   ]
  },
  {
   "cell_type": "code",
   "execution_count": null,
   "id": "79daa215",
   "metadata": {},
   "outputs": [],
   "source": [
    "model.fit(trainX, trainY, epochs=20, batch_size=32)"
   ]
  },
  {
   "cell_type": "code",
   "execution_count": null,
   "id": "80c25a4b",
   "metadata": {},
   "outputs": [],
   "source": [
    "trainPredict = model.predict(trainX)\n",
    "testPredict = model.predict(testX)"
   ]
  },
  {
   "cell_type": "code",
   "execution_count": null,
   "id": "3baee7c9",
   "metadata": {},
   "outputs": [],
   "source": [
    "\n",
    "# Create a temporary array with the same shape as the scaled_data used to fit the scaler\n",
    "temp_array = np.zeros((len(trainPredict), 4))\n",
    "temp_array[:,0] = trainPredict[:,0]  # Copy predictions into the first column\n",
    "\n",
    "# Inverse transform the temporary array\n",
    "trainPredict_inverse = scaler.inverse_transform(temp_array)[:,0]\n",
    "\n",
    "# Repeat the process for testPredict\n",
    "temp_array = np.zeros((len(testPredict), 4))\n",
    "temp_array[:,0] = testPredict[:,0]\n",
    "testPredict_inverse = scaler.inverse_transform(temp_array)[:,0]\n",
    "\n",
    "# If trainY is 1-dimensional, reshape it to 2-dimensional\n",
    "trainY = trainY.reshape(-1, 1) if trainY.ndim == 1 else trainY\n",
    "temp_array = np.zeros((len(trainY), 4))\n",
    "temp_array[:,0] = trainY[:,0]\n",
    "trainY_inverse = scaler.inverse_transform(temp_array)[:,0]\n",
    "\n",
    "# Ensure testY is 2-dimensional\n",
    "testY = testY.reshape(-1, 1) if testY.ndim == 1 else testY\n",
    "temp_array = np.zeros((len(testY), 4))\n",
    "temp_array[:,0] = testY[:,0]\n",
    "testY_inverse = scaler.inverse_transform(temp_array)[:,0]"
   ]
  },
  {
   "cell_type": "code",
   "execution_count": null,
   "id": "f7d2f84f",
   "metadata": {},
   "outputs": [],
   "source": [
    "def mean_percentage_accuracy(y_true, y_pred):\n",
    "    \"\"\"\n",
    "    Calculate the mean percentage accuracy.\n",
    "    \n",
    "    Parameters:\n",
    "    - y_true: actual values\n",
    "    - y_pred: predicted values\n",
    "    \n",
    "    Returns:\n",
    "    - accuracy: mean percentage accuracy\n",
    "    \"\"\"\n",
    "   \n",
    "    y_true = np.array(y_true)\n",
    "    y_pred = np.array(y_pred)\n",
    "    \n",
    "    \n",
    "    y_true = np.where(y_true == 0, np.finfo(float).eps, y_true)\n",
    "    \n",
    "  \n",
    "    percentage_diff = np.abs((y_true - y_pred) / y_true) * 100\n",
    "    \n",
    "   \n",
    "    accuracy = 100 - np.mean(percentage_diff)\n",
    "    \n",
    "    return accuracy\n",
    "\n",
    "accuracy = mean_percentage_accuracy(testY_inverse, testPredict_inverse)\n",
    "#prediction = pd.DataFrame(predictions, columns=['predictions']).to_csv('prediction.csv')\n",
    "print(f'Accuracy: {accuracy:.2f}%')"
   ]
  },
  {
   "cell_type": "code",
   "execution_count": null,
   "id": "f3a2a428",
   "metadata": {},
   "outputs": [],
   "source": [
    "\n",
    "plt.figure(figsize=(10,6))\n",
    "plt.plot(testY_inverse, color='blue', label='Actual')  # Use testY_inverse instead of y_test\n",
    "plt.plot(testPredict_inverse, color='red', label='Predicted')  # Use testPredict_inverse instead of predictions\n",
    "plt.title('Forecasting with LSTM')\n",
    "plt.xlabel('Time')\n",
    "plt.ylabel('Value')\n",
    "plt.legend()\n",
    "plt.show()"
   ]
  },
  {
   "cell_type": "code",
   "execution_count": null,
   "id": "3224872f",
   "metadata": {},
   "outputs": [],
   "source": [
    "prediction = pd.DataFrame(testPredict_inverse, columns=['Predictions']).to_csv('OCLH_Predictions1.csv')\n",
    "actual = pd.DataFrame(testY_inverse, columns=['Actual']).to_csv('OCLH_actual.csv')"
   ]
  }
 ],
 "metadata": {
  "kernelspec": {
   "display_name": "Python 3 (ipykernel)",
   "language": "python",
   "name": "python3"
  },
  "language_info": {
   "codemirror_mode": {
    "name": "ipython",
    "version": 3
   },
   "file_extension": ".py",
   "mimetype": "text/x-python",
   "name": "python",
   "nbconvert_exporter": "python",
   "pygments_lexer": "ipython3",
   "version": "3.11.5"
  }
 },
 "nbformat": 4,
 "nbformat_minor": 5
}
